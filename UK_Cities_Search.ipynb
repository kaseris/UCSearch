{
  "nbformat": 4,
  "nbformat_minor": 0,
  "metadata": {
    "colab": {
      "name": "AI-Assignment1-Ex1.ipynb",
      "provenance": [],
      "collapsed_sections": [],
      "toc_visible": true
    },
    "kernelspec": {
      "name": "python3",
      "display_name": "Python 3"
    }
  },
  "cells": [
    {
      "cell_type": "code",
      "metadata": {
        "id": "flXH4L5q1zrF",
        "colab_type": "code",
        "colab": {}
      },
      "source": [
        "import networkx as nx\n",
        "import matplotlib.pyplot as plt\n",
        "import json\n",
        "import random\n",
        "import math\n",
        "from priority_queue import *\n",
        "from ucs import UCSearch"
      ],
      "execution_count": 0,
      "outputs": []
    },
    {
      "cell_type": "markdown",
      "metadata": {
        "id": "YNO2yN7JhQD7",
        "colab_type": "text"
      },
      "source": [
        "# 1. Let's define some useful functions and constants."
      ]
    },
    {
      "cell_type": "code",
      "metadata": {
        "id": "Vng3OnLO2jFf",
        "colab_type": "code",
        "cellView": "both",
        "colab": {}
      },
      "source": [
        "#@title\n",
        "POLLUTION_COEFF = 0.00001 # The pollution cost coefficient\n",
        "\n",
        "def loadGraph(filename):\n",
        "  with open(filename) as labyrinth_file:\n",
        "    dict_labyrinth = json.load(labyrinth_file)\n",
        "    return dict_labyrinth, nx.Graph(dict_labyrinth)\n",
        "\n",
        "def insertKey(graphDict, keyName):\n",
        "  \"\"\"Inserts a keyword inside the graph's attributes.\n",
        "  E.g: If london has the neighbours:\n",
        "  {'london':{'bristol':{'weight': 100}},\n",
        "            {'cambridge':{'weight':54}}}, calling this function will insert a new\n",
        "  key in its neighbour's attributes. The result would be:\n",
        "  {'london':{'bristol':{'weight': 100, '[keyName]': None}},\n",
        "            {'cambridge':{'weight':54, '[keyName]': None}}}\"\"\"\n",
        "  for key, val in graphDict.items():\n",
        "    for key2, val2 in val.items():\n",
        "      graphDict[key][key2][keyName] = None\n",
        "  return graphDict\n",
        "\n",
        "def initialiseGraph(graphDict):\n",
        "  \"\"\"Initialises the various neighbour attributes for the purposes of Question 1C.\n",
        "  This function randomly initialises the velocity within the range [40, 100]. Once\n",
        "  the velocity is initialised the travel time from one city to another is calculated\n",
        "  as well as its corresponding travel time. This function returns a nxGraph instance\n",
        "  of the dictionary read by the .json file. Moreover, the function assumes that the keys\n",
        "  velocity, time and pollution_cost already exist.\"\"\"\n",
        "  for key, val in graphDict.items():\n",
        "    for neigh_key, neigh_dict in val.items():\n",
        "      for att_key, att_val in neigh_dict.items():\n",
        "          graphDict[key][neigh_key]['velocity'] = 316.227 # km/h\n",
        "          v = graphDict[key][neigh_key]['velocity']\n",
        "          graphDict[key][neigh_key]['time'] = graphDict[key][neigh_key]['weight'] / graphDict[key][neigh_key]['velocity']\n",
        "          t = graphDict[key][neigh_key]['time']\n",
        "          w = graphDict[key][neigh_key]['weight']\n",
        "          graphDict[key][neigh_key]['overall_cost'] = t + (POLLUTION_COEFF * w * v)\n",
        "          \n",
        "  return nx.Graph(graphDict)\n",
        "\n",
        "def show_weighted_graph(networkx_graph, node_size=2500, font_size=12, fig_size=(16, 7)):\n",
        "  # Allocate the given fig_size in order to have space for each node\n",
        "  plt.figure(num=None, figsize=fig_size, dpi=80)\n",
        "  plt.axis('off')\n",
        "  # Compute the position of each vertex in order to display it nicely\n",
        "  nodes_position = nx.spring_layout(networkx_graph) \n",
        "  # You can change the different layouts depending on your graph\n",
        "  # Extract the weights corresponding to each edge in the graph\n",
        "  edges_weights  = nx.get_edge_attributes(networkx_graph,'weight')\n",
        "  # Draw the nodes (you can change the color)\n",
        "  nx.draw_networkx_nodes(networkx_graph, nodes_position, node_size=node_size,  \n",
        "                         node_color = [\"orange\"]*networkx_graph.number_of_nodes())\n",
        "  # Draw only the edges\n",
        "  nx.draw_networkx_edges(networkx_graph, nodes_position, \n",
        "                         edgelist=list(networkx_graph.edges), width=2)\n",
        "  # Add the weights\n",
        "  nx.draw_networkx_edge_labels(networkx_graph, nodes_position, \n",
        "                               edge_labels = edges_weights)\n",
        "  # Add the labels of the nodes\n",
        "  nx.draw_networkx_labels(networkx_graph, nodes_position, font_size=font_size, \n",
        "                          font_family='sans-serif')\n",
        "  plt.axis('off')\n",
        "  plt.show()\n"
      ],
      "execution_count": 0,
      "outputs": []
    },
    {
      "cell_type": "markdown",
      "metadata": {
        "id": "vb3xtCBbUsh1",
        "colab_type": "text"
      },
      "source": [
        "#2. Load the graph.\n",
        "The `loadGraph` function returns the graph in the forms of a dictionary and of an nxGraph. The dictionary will be used to insert new keys in our graph."
      ]
    },
    {
      "cell_type": "code",
      "metadata": {
        "id": "vLhF3wOp4SFd",
        "colab_type": "code",
        "colab": {}
      },
      "source": [
        "uk_cities_dict, uk_cities_graph = loadGraph(\"UK_cities.json\")"
      ],
      "execution_count": 0,
      "outputs": []
    },
    {
      "cell_type": "markdown",
      "metadata": {
        "id": "XDysaJ8pWS29",
        "colab_type": "text"
      },
      "source": [
        "#3. Run the UCS algorithm\n",
        "In this section, the UCS algorithm will be run to find the path that yields the minimum distance. Note that in the trace, time is shown as zero, because the dictionary does not yet have the key 'time'."
      ]
    },
    {
      "cell_type": "code",
      "metadata": {
        "id": "0BWY8i9KLl2t",
        "colab_type": "code",
        "colab": {}
      },
      "source": [
        "searcher = UCSearch(uk_cities_graph, 'weight')\n",
        "searcher.ucs('london', 'aberdeen', True)"
      ],
      "execution_count": 0,
      "outputs": []
    },
    {
      "cell_type": "markdown",
      "metadata": {
        "id": "HGQC9UFsXY-M",
        "colab_type": "text"
      },
      "source": [
        "#4. Using the UCS algorithm to find the minimum pollution cost.\n",
        "For the case of the environmentally-friendly friends, the loaded dictionary will be used to insert the keys \"velocity\", \"time\" and \"pollution_cost\", that are needed to calculate the pollution cost for the journey from one city to another. Note that the velocity from city A to city B is chosen randomly and it is a number in the range [0, 100]."
      ]
    },
    {
      "cell_type": "code",
      "metadata": {
        "id": "ALPV7-mjYmRR",
        "colab_type": "code",
        "colab": {}
      },
      "source": [
        "uk_cities_dict_new = insertKey(uk_cities_dict, \"velocity\")\n",
        "uk_cities_dict_new = insertKey(uk_cities_dict, \"time\")\n",
        "uk_cities_dict_new = insertKey(uk_cities_dict, \"overall_cost\")"
      ],
      "execution_count": 0,
      "outputs": []
    },
    {
      "cell_type": "code",
      "metadata": {
        "id": "cEQPBF-En9Ly",
        "colab_type": "code",
        "colab": {}
      },
      "source": [
        "nxGraphCities = initialiseGraph(uk_cities_dict_new)"
      ],
      "execution_count": 0,
      "outputs": []
    },
    {
      "cell_type": "code",
      "metadata": {
        "id": "blBrQ0ptYdb8",
        "colab_type": "code",
        "colab": {}
      },
      "source": [
        "ucs_pollution = UCSearch(nxGraphCities, 'overall_cost')\n",
        "ucs_pollution.ucs('london', 'aberdeen')"
      ],
      "execution_count": 0,
      "outputs": []
    }
  ]
}